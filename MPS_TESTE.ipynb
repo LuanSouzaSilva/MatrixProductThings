{
 "cells": [
  {
   "cell_type": "markdown",
   "metadata": {},
   "source": [
    "### MPS - Matrix Product States\n",
    " Um estado genérico de um sistema de N partículas pode ser escrito como \n",
    "$\\begin{gather}\n",
    "    \\ket{\\psi} = \\sum_{j_1, j_2\\cdots j_N}C_{j_1, j_2\\cdots j_N}\\ket{\\sigma_{j_1}\\cdots\\sigma_{j_N}}\n",
    "\\end{gather}$\n",
    " Como primeiro caso, considere um sistema de 4 partículas com spin 1/2:\n",
    "$\\begin{gather}\n",
    "    \\ket{\\psi} = \\dfrac{1}{2}(\\ket{1, 0, 0, 0} + \\ket{0, 1, 0, 0} + \\ket{0, 0, 1, 0} + \\ket{0, 0, 0, 1}),\n",
    "\\end{gather}$\n",
    "em que aqui definimos $\\ket{\\uparrow}\\equiv\\ket{1}$ e $\\ket{\\downarrow}\\equiv\\ket{0}$. Além disso, $\\ket{\\sigma_1, \\sigma_2, \\cdots}\\equiv \\ket{\\sigma_1}\\otimes\\ket{\\sigma_2}\\cdots$, é um produto tensorial de estados locais.\n",
    "É claro que para (2), $C$ é um tensor de rank 4, com $2^4 = 16$ entradas. Seus elementos não-nulos são:\n",
    "$\\begin{gather}\n",
    "C_{1, 0, 0, 0} = C_{0, 1, 0, 0, 0} = C_{0, 0, 1, 0} = C_{0, 0, 0, 1} = \\dfrac{1}{2}\n",
    "\\end{gather}$\n"
   ]
  },
  {
   "cell_type": "markdown",
   "metadata": {},
   "source": [
    "Podemos, no entanto, transformar $C$ numa matriz, agrupando os índices $j_2$, $j_3$ e $j_4$, e separando do índice $j_1$. Assim, teremos uma matriz $M_{j_1 k}$, com $k = (j_2j_3j_4)$. Neste caso, a matriz será $2\\times8$"
   ]
  },
  {
   "cell_type": "code",
   "execution_count": 118,
   "metadata": {},
   "outputs": [
    {
     "name": "stdout",
     "output_type": "stream",
     "text": [
      "[[0.  0.5 0.5 0.  0.5 0.  0.  0. ]\n",
      " [0.5 0.  0.  0.  0.  0.  0.  0. ]]\n"
     ]
    }
   ],
   "source": [
    "import numpy as np\n",
    "from scipy.linalg import svd\n",
    "from itertools import product\n",
    "\n",
    "def InitialState(states_, coeffs_, dim_):\n",
    "    C_ = np.zeros(dim_) #tensor C_{j1 j2 j3 j4}\n",
    "    for i in range(len(states_)):\n",
    "        C_[tuple(states_[i, :])] = coeffs_[i]\n",
    "    return C_/np.sqrt(np.vdot(coeffs_, coeffs_))\n",
    "                 \n",
    "\n",
    "def GroupIndex(indexes_):\n",
    "\n",
    "    labels_ = []\n",
    "    newindex_ = []\n",
    "    count = 0\n",
    "    for label in product(range(0, 2), repeat=len(indexes_)): \n",
    "        labels_.append(list(label))\n",
    "        newindex_.append(count)\n",
    "\n",
    "        count += 1\n",
    "\n",
    "    return np.array(labels_), np.array(newindex_)\n",
    "\n",
    "def GroupLeftIndex(index_, bonddim_):\n",
    "\n",
    "    labels_ = []\n",
    "    newindex_ = []\n",
    "    count = 0\n",
    "    for i in range(len(index_)):\n",
    "        for ii in range(bonddim_):\n",
    "            labels_.append([i, ii])\n",
    "            newindex_.append(count)\n",
    "\n",
    "            count += 1\n",
    "\n",
    "    return np.array(labels_), np.array(newindex_)\n",
    "\n",
    "\n",
    "def Tensor2Matrix(Nsites_, indexes_, states_, coeffs_, dim_):\n",
    "    C_ = InitialState(states_, coeffs_, dim_)\n",
    "    labels_, newindex_ = GroupIndex(indexes_[-(Nsites_-1):, :])\n",
    "\n",
    "    M_ = np.zeros((len(indexes_[0, :]), len(newindex_)))\n",
    "\n",
    "    for i in range(len(indexes_[0])):\n",
    "        for ii in range(len(newindex_)):\n",
    "            M_[i, ii] = C_[(i,) + tuple(labels_[ii])]\n",
    "    return M_\n",
    "\n",
    "def ApplySVD(matrix_):\n",
    "    return svd(matrix_, full_matrices=False) #Decomposicao em valor singular da primeira matriz\n",
    "\n",
    "Nsites = 4\n",
    "dim = []\n",
    "for i in range(Nsites):\n",
    "    dim.append(2)\n",
    "\n",
    "states = np.array([[1, 0, 0, 0], [0, 1, 0, 0], [0, 0, 1, 0], [0, 0, 0, 1]])\n",
    "coeffs = [1, 1, 1, 1]\n",
    "dim = tuple(dim)\n",
    "\n",
    "#Valores para os indices\n",
    "js = np.zeros((Nsites, 2))\n",
    "js[:, 1] = 1\n",
    "\n",
    "M = Tensor2Matrix(Nsites, js, states, coeffs, dim)\n",
    "\n",
    "print(np.round(M, 2))"
   ]
  },
  {
   "cell_type": "markdown",
   "metadata": {},
   "source": [
    "Agora, com $M$ em mãos, podemos fazer uma SVD (Singular Value Decomposition), de forma a obtermos a seguinte fatorização:\n",
    "$\\begin{gather}\n",
    "M_0 = U_0\\Sigma_0 V_0^{\\dagger},\n",
    "\\end{gather}$\n",
    "sendo $\\Sigma_0$ uma matriz diagonal contendo os valores singulares."
   ]
  },
  {
   "cell_type": "code",
   "execution_count": 119,
   "metadata": {},
   "outputs": [
    {
     "name": "stdout",
     "output_type": "stream",
     "text": [
      "[[1. 0.]\n",
      " [0. 1.]] \n",
      "\n",
      " [[0.8660254 0.       ]\n",
      " [0.        0.5      ]] \n",
      "\n",
      " [[0.    0.577 0.577 0.    0.577 0.    0.    0.   ]\n",
      " [1.    0.    0.    0.    0.    0.    0.    0.   ]]\n"
     ]
    }
   ],
   "source": [
    "\n",
    "U1, Sigma1, V1dag = ApplySVD(M) #Decomposicao em valor singular da primeira matriz\n",
    "\n",
    "print(U1, '\\n\\n', np.diag(Sigma1), '\\n\\n', np.round(V1dag, 3))"
   ]
  },
  {
   "cell_type": "markdown",
   "metadata": {},
   "source": [
    "Agora, definiremos uma quantidade chamada $\\textit{bond dimension}$ $a_1$, defida por $a_1 = \\dim(\\Sigma_1)$. Desta vez, agruparemos $k = (j_3 j_4)$ e separaremos de $j_2$. No entanto, agora teremos um índice $k^{\\prime}$ que vai de 1 a $a_1$. Então, transformaremos $V_{1}^{\\dagger}$ em uma matriz $(M_2)_{(k_1 k)}$, com $k_1 = (k^{\\prime} j_2)$. Esta matriz tem dimensão $(a_1+\\max(j_1))\\times \\max(k)$. Neste caso, será uma matriz $4\\times 4$"
   ]
  },
  {
   "cell_type": "code",
   "execution_count": 120,
   "metadata": {},
   "outputs": [],
   "source": [
    "def SweepSite(Nsites_, site_, bonddim_, indexes_, matrix_):\n",
    "    Right_indexes_ = indexes_[-(Nsites_-site_-1):, :]\n",
    "\n",
    "    Rlabels_, k1_ = GroupIndex(Right_indexes_)\n",
    "    Llabels_, k2_ = GroupLeftIndex(indexes_[(Nsites_-site_-1), :], bonddim_)\n",
    "\n",
    "    M_ = np.zeros((len(k2_), len(k1_)))\n",
    "\n",
    "    for i in range(len(k2_)):\n",
    "        for ii in range(len(k1_)):\n",
    "\n",
    "            #print(Llabels_[i, 1], len(k1_)*Llabels_[i, 0]+k1_[ii])\n",
    "            M_[i, ii] = matrix_[Llabels_[i, 1], len(k1_)*Llabels_[i, 0]+k1_[ii]]\n",
    "\n",
    "    return M_\n"
   ]
  },
  {
   "cell_type": "code",
   "execution_count": 121,
   "metadata": {},
   "outputs": [
    {
     "name": "stdout",
     "output_type": "stream",
     "text": [
      "[[0.   0.58 0.58 0.  ]\n",
      " [1.   0.   0.   0.  ]\n",
      " [0.58 0.   0.   0.  ]\n",
      " [0.   0.   0.   0.  ]]\n"
     ]
    }
   ],
   "source": [
    "a1 = len(Sigma1) # primeiro bond dimension\n",
    "\n",
    "M2 = SweepSite(Nsites, 1, a1, js, V1dag)\n",
    "\n",
    "print(np.round(M2, 2))"
   ]
  },
  {
   "cell_type": "markdown",
   "metadata": {},
   "source": [
    "Agora performamos uma nova SVD, agora em $M_2$."
   ]
  },
  {
   "cell_type": "code",
   "execution_count": 122,
   "metadata": {},
   "outputs": [
    {
     "name": "stdout",
     "output_type": "stream",
     "text": [
      "[[ 0.     1.     0.    -0.   ]\n",
      " [-0.866  0.    -0.    -0.5  ]\n",
      " [-0.5    0.    -0.     0.866]\n",
      " [-0.     0.     1.    -0.   ]] \n",
      "\n",
      " [[1.155 0.    0.    0.   ]\n",
      " [0.    0.816 0.    0.   ]\n",
      " [0.    0.    0.    0.   ]\n",
      " [0.    0.    0.    0.   ]] \n",
      "\n",
      " [[-1.    -0.    -0.    -0.   ]\n",
      " [-0.     0.707  0.707 -0.   ]\n",
      " [-0.     0.707 -0.707 -0.   ]\n",
      " [ 0.     0.     0.     1.   ]]\n"
     ]
    }
   ],
   "source": [
    "U2, Sigma2, V2dag = ApplySVD(M2)\n",
    "\n",
    "print(np.round(U2, 3), '\\n\\n', np.round(np.diag(Sigma2), 3), '\\n\\n', np.round(V2dag, 3))"
   ]
  },
  {
   "cell_type": "markdown",
   "metadata": {},
   "source": [
    "Definimos agora outra $\\textit{bond dimension}$, $a_2 = \\dim(\\Sigma_2)$. Neste caso, $a_2 = 4$. Temos então os índices $k_3 = (a_2 j_3)$ e $j_4$, tal que transformamos $V_{2}^{\\dagger}$ na matriz $(M_3)_{k_3 j_4}$, que neste caso será uma matriz $8\\times 2$."
   ]
  },
  {
   "cell_type": "code",
   "execution_count": 123,
   "metadata": {},
   "outputs": [
    {
     "name": "stdout",
     "output_type": "stream",
     "text": [
      "[[-1.    -0.   ]\n",
      " [-0.     0.707]\n",
      " [-0.     0.707]\n",
      " [ 0.     0.   ]\n",
      " [-0.    -0.   ]\n",
      " [ 0.707 -0.   ]\n",
      " [-0.707 -0.   ]\n",
      " [ 0.     1.   ]]\n"
     ]
    }
   ],
   "source": [
    "a2 = len(Sigma2)\n",
    "M3 = SweepSite(Nsites, 2, a2, js, V2dag)\n",
    "\n",
    "print(np.round(M3, 3))\n"
   ]
  },
  {
   "cell_type": "markdown",
   "metadata": {},
   "source": [
    "Por fim, fazemos uma última SVD, em $M_3$."
   ]
  },
  {
   "cell_type": "code",
   "execution_count": 124,
   "metadata": {},
   "outputs": [
    {
     "name": "stdout",
     "output_type": "stream",
     "text": [
      "[[-0.707  0.   ]\n",
      " [ 0.    -0.5  ]\n",
      " [ 0.    -0.5  ]\n",
      " [ 0.     0.   ]\n",
      " [ 0.     0.   ]\n",
      " [ 0.5    0.   ]\n",
      " [-0.5    0.   ]\n",
      " [ 0.    -0.707]] \n",
      "\n",
      " [[1.414 0.   ]\n",
      " [0.    1.414]] \n",
      "\n",
      " [[ 1.  0.]\n",
      " [-0. -1.]]\n"
     ]
    }
   ],
   "source": [
    "U3, Sigma3, V3dag = ApplySVD(M3)\n",
    "\n",
    "print(np.round(U3, 3), '\\n\\n', np.round(np.diag(Sigma3), 3), '\\n\\n', np.round(V3dag, 3))"
   ]
  },
  {
   "cell_type": "markdown",
   "metadata": {},
   "source": [
    "Agora, vamos multiplicar $A_i = U_i\\cdot\\Sigma_i$, $i = 1, 2, 3$ e $A_4 = V_3^{\\dagger}$."
   ]
  },
  {
   "cell_type": "code",
   "execution_count": 125,
   "metadata": {},
   "outputs": [
    {
     "name": "stdout",
     "output_type": "stream",
     "text": [
      "[1.]\n"
     ]
    }
   ],
   "source": [
    "A1 = np.array(np.split(np.matmul(U1, np.diag(Sigma1)), 2))\n",
    "A2 = np.array(np.split(np.matmul(U2, np.diag(Sigma2)), 2, axis = 0))\n",
    "A3 = np.array(np.split(np.matmul(U3, np.diag(Sigma3)), 2, axis = 0))\n",
    "A4 = np.array(np.split(V3dag, 2, axis = 1))\n",
    "\n",
    "print(np.round(A4[0, 0], 3))#, '\\n\\n', np.round(A2, 3), '\\n\\n', np.round(A3, 3), '\\n\\n', np.round(A4, 3))"
   ]
  },
  {
   "cell_type": "code",
   "execution_count": 126,
   "metadata": {},
   "outputs": [
    {
     "name": "stdout",
     "output_type": "stream",
     "text": [
      "0.5\n"
     ]
    }
   ],
   "source": [
    "#print(np.round(A2[:2, :], 3))\n",
    "i1 = 0\n",
    "i2 = 1\n",
    "i3 = 0\n",
    "i4 = 0\n",
    "\n",
    "aux0 = np.matmul(A1[i1, 0], A2[i2])\n",
    "aux1 = np.matmul(aux0, A3[i3])\n",
    "aux2 = np.matmul(aux1, A4[i4])\n",
    "\n",
    "print(round(aux2[0], 2))"
   ]
  },
  {
   "cell_type": "code",
   "execution_count": 127,
   "metadata": {},
   "outputs": [],
   "source": [
    "def CalculatePreMatrices(Nsites_, indexes_, states_, coeffs_, dim_):\n",
    "    M_ = Tensor2Matrix(Nsites_, indexes_, states_, coeffs_, dim_)\n",
    "    U_, Sigma_, Vdag_ = ApplySVD(M_)\n",
    "\n",
    "    Us_ = []\n",
    "    SingVals_ = []\n",
    "    for i in range(1, Nsites_-1):\n",
    "        U_, Sigma_, Vdag_ = ApplySVD(M_)\n",
    "\n",
    "        a_ = len(Sigma_)\n",
    "        M_ = SweepSite(Nsites_, i, a_, indexes_, Vdag_)\n",
    "\n",
    "        Us_.append(U_)\n",
    "        SingVals_.append(Sigma_)\n",
    "\n",
    "    U_, Sigma_, Vdag_ = ApplySVD(M_)\n",
    "\n",
    "    Us_.append(U_)\n",
    "    Us_.append(Vdag_)\n",
    "    SingVals_.append(Sigma_)\n",
    "\n",
    "    return Us_, SingVals_\n",
    "\n",
    "def ContractSVals(Us_, SingVals_):\n",
    "    As_ = []\n",
    "    for i in range(len(Us_)-1):\n",
    "        As_.append(np.array(np.split(np.matmul(Us_[i], np.diag(SingVals_[i])), 2)))\n",
    "    As_.append(np.array(np.split(Us_[-1], 2, axis = 1)))\n",
    "\n",
    "    return As_"
   ]
  },
  {
   "cell_type": "code",
   "execution_count": 144,
   "metadata": {},
   "outputs": [
    {
     "name": "stdout",
     "output_type": "stream",
     "text": [
      "CPU times: total: 391 ms\n",
      "Wall time: 106 ms\n"
     ]
    }
   ],
   "source": [
    "Nsites = 12\n",
    "Nbase = 1\n",
    "dim = []\n",
    "for i in range(Nsites):\n",
    "    dim.append(2)\n",
    "\n",
    "states = np.zeros((Nbase, Nsites), dtype = int)\n",
    "coeffs = np.ones(Nbase)\n",
    "coeffs = [1, 1, 1, 1, 1]\n",
    "dim = tuple(dim)\n",
    "\n",
    "#Valores para os indices\n",
    "js = np.zeros((Nsites, 2))\n",
    "js[:, 1] = 1\n",
    "\n",
    "%time Us, SingVals = CalculatePreMatrices(Nsites, js, states, coeffs, dim)"
   ]
  },
  {
   "cell_type": "code",
   "execution_count": 145,
   "metadata": {},
   "outputs": [
    {
     "name": "stdout",
     "output_type": "stream",
     "text": [
      "CPU times: total: 0 ns\n",
      "Wall time: 5 ms\n"
     ]
    }
   ],
   "source": [
    "%time As = ContractSVals(Us, SingVals)"
   ]
  },
  {
   "cell_type": "code",
   "execution_count": 110,
   "metadata": {},
   "outputs": [
    {
     "name": "stdout",
     "output_type": "stream",
     "text": [
      "0.45\n"
     ]
    }
   ],
   "source": [
    "inds = [0, 0, 0, 0, 1]\n",
    "\n",
    "aux = np.matmul(As[0][inds[0]], As[1][inds[1]])\n",
    "for i in range(1, Nsites-1):\n",
    "    aux = np.matmul(aux, As[i+1][inds[i+1]])\n",
    "\n",
    "print(round(aux[0, 0], 2))"
   ]
  }
 ],
 "metadata": {
  "kernelspec": {
   "display_name": "myenv",
   "language": "python",
   "name": "python3"
  },
  "language_info": {
   "codemirror_mode": {
    "name": "ipython",
    "version": 3
   },
   "file_extension": ".py",
   "mimetype": "text/x-python",
   "name": "python",
   "nbconvert_exporter": "python",
   "pygments_lexer": "ipython3",
   "version": "3.10.12"
  }
 },
 "nbformat": 4,
 "nbformat_minor": 2
}
